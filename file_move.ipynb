{
 "cells": [
  {
   "cell_type": "code",
   "execution_count": 2,
   "source": [
    "import os, shutil\r\n",
    "os.getcwd()"
   ],
   "outputs": [
    {
     "output_type": "execute_result",
     "data": {
      "text/plain": [
       "'c:\\\\Users\\\\user\\\\Drive\\\\s-hero'"
      ]
     },
     "metadata": {},
     "execution_count": 2
    }
   ],
   "metadata": {}
  },
  {
   "cell_type": "code",
   "execution_count": 3,
   "source": [
    "origin_path = r'C:\\Users\\user\\Drive\\s-hero\\data'\r\n",
    "file_list = os.listdir(origin_path)\r\n",
    "print(len(os.listdir(origin_path)))"
   ],
   "outputs": [
    {
     "output_type": "stream",
     "name": "stdout",
     "text": [
      "1596\n"
     ]
    }
   ],
   "metadata": {}
  },
  {
   "cell_type": "code",
   "execution_count": 4,
   "source": [
    "from glob import glob \r\n",
    "image_list = sorted(glob(r'C:\\Users\\user\\Drive\\s-hero\\data\\*.jpg'))\r\n",
    "annot_list = sorted(glob(r'C:\\Users\\user\\Drive\\s-hero\\data\\*.txt'))\r\n",
    "print(len(image_list), len(annot_list))"
   ],
   "outputs": [
    {
     "output_type": "stream",
     "name": "stdout",
     "text": [
      "798 798\n"
     ]
    }
   ],
   "metadata": {}
  },
  {
   "cell_type": "code",
   "execution_count": 6,
   "source": [
    "from sklearn.model_selection import train_test_split\r\n",
    "\r\n",
    "train_image_list, valid_image_list , train_annot_list, valid_annot_list = train_test_split(image_list, annot_list, test_size=0.15)"
   ],
   "outputs": [],
   "metadata": {}
  },
  {
   "cell_type": "code",
   "execution_count": 9,
   "source": [
    "train_image_list[0][-11:]"
   ],
   "outputs": [
    {
     "output_type": "execute_result",
     "data": {
      "text/plain": [
       "'\\\\B2_046.jpg'"
      ]
     },
     "metadata": {},
     "execution_count": 9
    }
   ],
   "metadata": {}
  },
  {
   "cell_type": "code",
   "execution_count": 11,
   "source": [
    "print(len(train_image_list), len(train_annot_list), len(valid_image_list), len(valid_annot_list))"
   ],
   "outputs": [
    {
     "output_type": "stream",
     "name": "stdout",
     "text": [
      "678 678 120 120\n"
     ]
    }
   ],
   "metadata": {}
  },
  {
   "cell_type": "code",
   "execution_count": 12,
   "source": [
    "train_image_list[1][-10:-4]"
   ],
   "outputs": [
    {
     "output_type": "execute_result",
     "data": {
      "text/plain": [
       "'A3_068'"
      ]
     },
     "metadata": {},
     "execution_count": 12
    }
   ],
   "metadata": {}
  },
  {
   "cell_type": "code",
   "execution_count": 13,
   "source": [
    "image_names = []\r\n",
    "for items in train_image_list:\r\n",
    "    image_names.append(items[-10:-4])\r\n",
    "image_names.sort()\r\n",
    "\r\n",
    "annot_names = []\r\n",
    "for items in train_image_list:\r\n",
    "    annot_names.append(items[-10:-4])\r\n",
    "annot_names.sort()\r\n",
    "\r\n",
    "assert image_names == annot_names  "
   ],
   "outputs": [],
   "metadata": {}
  },
  {
   "cell_type": "code",
   "execution_count": 14,
   "source": [
    "train_image_move_path = r'C:\\Users\\user\\Drive\\s-hero\\code\\train\\images'\r\n",
    "train_annot_move_path = r'C:\\Users\\user\\Drive\\s-hero\\code\\train\\labels'\r\n",
    "valid_image_move_path = r'C:\\Users\\user\\Drive\\s-hero\\code\\valid\\images'\r\n",
    "valid_annot_move_path = r'C:\\Users\\user\\Drive\\s-hero\\code\\valid\\labels'"
   ],
   "outputs": [],
   "metadata": {}
  },
  {
   "cell_type": "code",
   "execution_count": 18,
   "source": [
    "for item in train_image_list:\r\n",
    "    shutil.move(item, train_image_move_path + item[-11:])\r\n",
    "\r\n",
    "for item in valid_image_list:\r\n",
    "    shutil.move(item, valid_image_move_path + item[-11:])\r\n",
    "\r\n",
    "for item in train_annot_list:\r\n",
    "    shutil.move(item, train_annot_move_path + item[-11:])\r\n",
    "    \r\n",
    "for item in valid_annot_list:\r\n",
    "    shutil.move(item, valid_annot_move_path + item[-11:])"
   ],
   "outputs": [],
   "metadata": {}
  }
 ],
 "metadata": {
  "orig_nbformat": 4,
  "language_info": {
   "name": "python",
   "version": "3.9.6",
   "mimetype": "text/x-python",
   "codemirror_mode": {
    "name": "ipython",
    "version": 3
   },
   "pygments_lexer": "ipython3",
   "nbconvert_exporter": "python",
   "file_extension": ".py"
  },
  "kernelspec": {
   "name": "python3",
   "display_name": "Python 3.9.6 64-bit ('torch180': conda)"
  },
  "interpreter": {
   "hash": "f91df44f1f4041b715e40fddbdf5aae97f67392faf430b430b7e94856d31ad21"
  }
 },
 "nbformat": 4,
 "nbformat_minor": 2
}